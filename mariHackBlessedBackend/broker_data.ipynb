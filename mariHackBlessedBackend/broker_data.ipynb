{
 "cells": [
  {
   "cell_type": "markdown",
   "metadata": {},
   "source": [
    "## Imports"
   ]
  },
  {
   "cell_type": "code",
   "execution_count": 1,
   "metadata": {},
   "outputs": [],
   "source": [
    "import numpy as np\n",
    "import pandas as pd\n",
    "import scipy as sp\n",
    "import matplotlib.pyplot as plt\n",
    "import json"
   ]
  },
  {
   "cell_type": "markdown",
   "metadata": {},
   "source": [
    "## Read stuff ###"
   ]
  },
  {
   "cell_type": "code",
   "execution_count": 54,
   "metadata": {},
   "outputs": [],
   "source": [
    "data = pd.read_csv(\"chix.csv\", sep = \";\")\n",
    "\n",
    "with open('bankHack.json', 'r') as file:\n",
    "    data2 = json.load(file)"
   ]
  },
  {
   "cell_type": "markdown",
   "metadata": {},
   "source": [
    "## Brokers"
   ]
  },
  {
   "cell_type": "code",
   "execution_count": 3,
   "metadata": {},
   "outputs": [],
   "source": [
    "c = list(pd.unique(data[\"Contra Broker\"].dropna()))\n",
    "b = list(pd.unique(data[\"Broker\"].dropna()))\n",
    "\n",
    "for num in c:\n",
    "    if num not in b:\n",
    "        b.append(num)\n",
    "\n",
    "brokers = []\n",
    "for num in b:\n",
    "    if num != np.nan and num != 1.0:\n",
    "        brokers.append(int(num))"
   ]
  },
  {
   "cell_type": "markdown",
   "metadata": {},
   "source": [
    "## Contra brokers\n",
    "Count the number of times a broker is a contra broker\n",
    "\n",
    "Contra brokers have more advantages since they will only buy at a price lower or equal than their limit or sell at a price higher or equal to their limit."
   ]
  },
  {
   "cell_type": "code",
   "execution_count": 38,
   "metadata": {},
   "outputs": [],
   "source": [
    "count_contrabro = {}\n",
    "\n",
    "for bro_num in brokers:\n",
    "    contrabro = data[data[\"Contra Broker\"] == bro_num]\n",
    "    count = len(contrabro)\n",
    "    count_contrabro[bro_num] = count"
   ]
  },
  {
   "cell_type": "markdown",
   "metadata": {},
   "source": [
    "## Notionals\n",
    "Notional = number of shares $\\times$ price of the share\n",
    "\n",
    "Higher notional means more money handling"
   ]
  },
  {
   "cell_type": "code",
   "execution_count": 26,
   "metadata": {},
   "outputs": [],
   "source": [
    "orders = {}\n",
    "notional = {}\n",
    "for i in range(len(data2)):\n",
    "    if data2[i][\"Message Type\"] != \"X\":\n",
    "        notional[data2[i][\"Broker\"]] = 0\n",
    "        orders[data2[i][\"Order Reference\"]] = {}\n",
    "    if data2[i][\"Message Type\"] == \"E\":\n",
    "        notional[data2[i][\"Contra Broker\"]] = 0\n",
    "for i in range(len(data2)):\n",
    "    if data2[i]['Message Type'] == 'A':\n",
    "        orders[data2[i]['Order Reference']] = {\n",
    "            \"action\" : data2[i]['Buy/Sell Indicator'],\n",
    "            \"Price\": data2[i]['Price']\n",
    "        }\n",
    "    if data2[i]['Message Type'] == 'E':\n",
    "        order = data2[i]['Order Reference']\n",
    "        price = orders[order][\"Price\"]\n",
    "        shares = data2[i][\"Executed Shares\"]\n",
    "\n",
    "        notional[data2[i][\"Broker\"]] += price*shares\n",
    "        notional[data2[i][\"Contra Broker\"]] += price*shares     \n",
    "\n",
    "del notional[1]"
   ]
  },
  {
   "cell_type": "markdown",
   "metadata": {},
   "source": [
    "## Transaction scores\n",
    "Score for the transactions of the brokers depending on the price variation around the time of transaction\n",
    "\n",
    "Uses data2, y_*some variable here* because we are combining different codes "
   ]
  },
  {
   "cell_type": "code",
   "execution_count": 55,
   "metadata": {},
   "outputs": [],
   "source": [
    "for i in range(len(data2)):\n",
    "    data2[i]['Time Stamp'] = data2[i]['Time Stamp']['$numberLong'][:-6]"
   ]
  },
  {
   "cell_type": "code",
   "execution_count": 56,
   "metadata": {},
   "outputs": [],
   "source": [
    "for i in range(len(data2)):\n",
    "    data2[i]['Time Stamp'] = (int)(data2[i]['Time Stamp'])"
   ]
  },
  {
   "cell_type": "code",
   "execution_count": 57,
   "metadata": {},
   "outputs": [],
   "source": [
    "y_brokers = [1, 2, 7, 9, 14, 19, 33, 39, 53, 65, 70, 72, 79, 80, 84, 85, 88, 124]\n",
    "y_scores = {broker:[] for broker in y_brokers}\n",
    "offers = {}    "
   ]
  },
  {
   "cell_type": "code",
   "execution_count": 58,
   "metadata": {},
   "outputs": [],
   "source": [
    "#sign = 1 is sell, -1 if buy\n",
    "window_size = 1e5\n",
    "def update_score(idx, y_broker,price, sign):\n",
    "    nb_scores = []\n",
    "    shares = data2[idx]['Executed Shares']\n",
    "    trade_time = data2[idx]['Time Stamp']\n",
    "    i = idx\n",
    "    while i>=0 and (trade_time-data2[i]['Time Stamp'] < window_size):\n",
    "        if data2[i][\"Message Type\"] == 'A':\n",
    "            nb_scores.append(sign*(price-data2[i]['Price Decimal']))\n",
    "        i-=1\n",
    "    i = idx\n",
    "    while i<len(data2) and (data2[i]['Time Stamp']-trade_time < window_size):\n",
    "        if data2[i][\"Message Type\"] == 'A':\n",
    "            nb_scores.append(sign*(price-data2[i]['Price Decimal']))\n",
    "        i+=1\n",
    "    y_scores[y_broker].append(np.mean(nb_scores)*shares)"
   ]
  },
  {
   "cell_type": "code",
   "execution_count": 70,
   "metadata": {},
   "outputs": [],
   "source": [
    "for i in range(len(data2)):\n",
    "    if data2[i][\"Message Type\"] == 'A':\n",
    "        offer = data2[i][\"Order Reference\"]\n",
    "        offers[offer] = {\"action\" : data2[i]['Buy/Sell Indicator'],\"Price\": data2[i]['Price Decimal']}\n",
    "    if data2[i][\"Message Type\"] == 'E':\n",
    "        offer = data2[i][\"Order Reference\"]\n",
    "        price = offers[offer][\"Price\"]\n",
    "        if offers[offer][\"action\"] == 'S':\n",
    "            update_score(i, data2[i]['Broker'], price,  1)\n",
    "            update_score(i, data2[i]['Contra Broker'], price, -1)\n",
    "        else:\n",
    "            update_score(i, data2[i]['Broker'], price, -1)\n",
    "            update_score(i, data2[i]['Contra Broker'], price, 1)"
   ]
  },
  {
   "cell_type": "code",
   "execution_count": 72,
   "metadata": {},
   "outputs": [],
   "source": [
    "scorePerTransaction = {}\n",
    "for y_broker in y_scores:\n",
    "    if len(y_scores[y_broker]) != 0:\n",
    "        scorePerTransaction[y_broker] = np.mean(y_scores[y_broker])\n",
    "    \n",
    "    else:\n",
    "        scorePerTransaction[y_broker] = 0\n",
    "\n",
    "del scorePerTransaction[1]"
   ]
  },
  {
   "cell_type": "markdown",
   "metadata": {},
   "source": [
    "## Number of trades\n",
    "Number of total executed trades done by a broker"
   ]
  },
  {
   "cell_type": "code",
   "execution_count": 30,
   "metadata": {},
   "outputs": [
    {
     "data": {
      "text/plain": [
       "{80: 806,\n",
       " 79: 899,\n",
       " 7: 29,\n",
       " 2: 168,\n",
       " 39: 65,\n",
       " 9: 135,\n",
       " 33: 11,\n",
       " 85: 35,\n",
       " 53: 73,\n",
       " 72: 1,\n",
       " 84: 0,\n",
       " 19: 7,\n",
       " 70: 1,\n",
       " 14: 4,\n",
       " 88: 1,\n",
       " 124: 2,\n",
       " 65: 5}"
      ]
     },
     "execution_count": 30,
     "metadata": {},
     "output_type": "execute_result"
    }
   ],
   "source": [
    "exec = data[data[\"Message Type\"] == \"E\"]\n",
    "trade = {}\n",
    "\n",
    "for bro_num in brokers:\n",
    "    bro_exec = exec[exec[\"Broker\"] == bro_num]\n",
    "    count = len(bro_exec)\n",
    "    trade[bro_num] = count\n",
    "\n",
    "for key in trade:\n",
    "    new_value = trade[key] + count_contrabro[key]\n",
    "    trade[key] = new_value\n",
    "\n",
    "trade"
   ]
  },
  {
   "cell_type": "markdown",
   "metadata": {},
   "source": [
    "## Volume\n",
    "Total number of executed shares (buy and sell)"
   ]
  },
  {
   "cell_type": "code",
   "execution_count": 31,
   "metadata": {},
   "outputs": [
    {
     "data": {
      "text/plain": [
       "{80: 1945900.0,\n",
       " 79: 2140000.0,\n",
       " 7: 32700.0,\n",
       " 2: 716000.0,\n",
       " 39: 298200.0,\n",
       " 9: 491600.0,\n",
       " 33: 11700.0,\n",
       " 85: 13400.0,\n",
       " 53: 47800.0,\n",
       " 72: 4700.0,\n",
       " 84: 0.0,\n",
       " 19: 9700.0,\n",
       " 70: 500.0,\n",
       " 14: 18400.0,\n",
       " 88: 500.0,\n",
       " 124: 200.0,\n",
       " 65: 1000.0}"
      ]
     },
     "execution_count": 31,
     "metadata": {},
     "output_type": "execute_result"
    }
   ],
   "source": [
    "volume = {}\n",
    "\n",
    "for bro_num in brokers:\n",
    "    bro_exec1 = exec[exec[\"Broker\"] == bro_num]\n",
    "    bro_exec2 = exec[exec[\"Contra Broker\"] == bro_num]\n",
    "    total = bro_exec1[\"Executed Shares\"].sum() + bro_exec2[\"Executed Shares\"].sum()\n",
    "    volume[bro_num] = total\n",
    "\n",
    "volume"
   ]
  },
  {
   "cell_type": "markdown",
   "metadata": {},
   "source": [
    "## Ratio\n",
    "Ratio of notional for trade\n",
    "\n",
    "Higher ratio means the broker handled more money in less trades, so they are more performant"
   ]
  },
  {
   "cell_type": "code",
   "execution_count": 32,
   "metadata": {},
   "outputs": [
    {
     "data": {
      "text/plain": [
       "{80: 601706042.1836228,\n",
       " 79: 593176707.4527253,\n",
       " 7: 280553448.2758621,\n",
       " 2: 1064189761.9047619,\n",
       " 39: 1146125692.3076923,\n",
       " 9: 904398444.4444444,\n",
       " 19: 346825714.28571427,\n",
       " 70: 126100000.0,\n",
       " 14: 1159200000.0,\n",
       " 33: 264648181.8181818,\n",
       " 53: 162911506.84931508,\n",
       " 88: 125350000.0,\n",
       " 124: 24965000.0,\n",
       " 85: 95204857.14285715,\n",
       " 65: 49678000.0,\n",
       " 72: 1170300000.0,\n",
       " 84: 0}"
      ]
     },
     "execution_count": 32,
     "metadata": {},
     "output_type": "execute_result"
    }
   ],
   "source": [
    "ratio = {}\n",
    "\n",
    "for key in notional:\n",
    "    try:\n",
    "        r = notional[key]/trade[key]\n",
    "        ratio[key] = r\n",
    "    \n",
    "    except ZeroDivisionError:\n",
    "        ratio[key] = 0\n",
    "\n",
    "ratio"
   ]
  },
  {
   "cell_type": "markdown",
   "metadata": {},
   "source": [
    "## Overall score calculation\n",
    "Normalize the scores for each criteria and add them up\n",
    "\n",
    "Use the z score"
   ]
  },
  {
   "cell_type": "code",
   "execution_count": 69,
   "metadata": {},
   "outputs": [],
   "source": [
    "criterias = [count_contrabro, notional, scorePerTransaction, trade, volume, ratio]"
   ]
  },
  {
   "cell_type": "code",
   "execution_count": 35,
   "metadata": {},
   "outputs": [],
   "source": [
    "size = len(brokers)\n",
    "initial_scores = [0.0] * size\n",
    "scores = dict(zip(brokers, initial_scores))"
   ]
  },
  {
   "cell_type": "code",
   "execution_count": 36,
   "metadata": {},
   "outputs": [
    {
     "data": {
      "text/plain": [
       "{80: 46.99245772955349,\n",
       " 79: 38.381089453568244,\n",
       " 7: -9.107932030046442,\n",
       " 2: 13.64924496448306,\n",
       " 39: 6.82470530595992,\n",
       " 9: 4.231285734507006,\n",
       " 33: -7.772153009150365,\n",
       " 85: -10.490762641322819,\n",
       " 53: -8.6442482463384,\n",
       " 72: 8.170158073982325,\n",
       " 84: -12.38947759728503,\n",
       " 19: -8.023212416774786,\n",
       " 70: -12.00156676797289,\n",
       " 14: -14.508505507178445,\n",
       " 88: -11.028058172639556,\n",
       " 124: -12.110557376258118,\n",
       " 65: -12.1724674970872}"
      ]
     },
     "execution_count": 36,
     "metadata": {},
     "output_type": "execute_result"
    }
   ],
   "source": [
    "for crit in criterias:\n",
    "    crit_val = list(crit.values())\n",
    "    mean = np.mean(crit_val)\n",
    "    std = np.std(crit_val)\n",
    "\n",
    "    for bk in crit:\n",
    "        z = (crit[bk] - mean) * (size ** 0.5)/std\n",
    "        scores[bk] += z\n",
    "\n",
    "scores"
   ]
  }
 ],
 "metadata": {
  "kernelspec": {
   "display_name": "Python 3",
   "language": "python",
   "name": "python3"
  },
  "language_info": {
   "codemirror_mode": {
    "name": "ipython",
    "version": 3
   },
   "file_extension": ".py",
   "mimetype": "text/x-python",
   "name": "python",
   "nbconvert_exporter": "python",
   "pygments_lexer": "ipython3",
   "version": "3.7.6"
  }
 },
 "nbformat": 4,
 "nbformat_minor": 2
}
