{
 "cells": [
  {
   "cell_type": "markdown",
   "metadata": {},
   "source": [
    "### Imports"
   ]
  },
  {
   "cell_type": "code",
   "execution_count": 38,
   "metadata": {},
   "outputs": [],
   "source": [
    "import numpy as np\n",
    "import pandas as pd\n",
    "import scipy as sp\n",
    "import matplotlib.pyplot as plt\n",
    "import json"
   ]
  },
  {
   "cell_type": "markdown",
   "metadata": {},
   "source": [
    "### Read stuff ###"
   ]
  },
  {
   "cell_type": "code",
   "execution_count": 42,
   "metadata": {},
   "outputs": [],
   "source": [
    "data = pd.read_csv(\"chix.csv\", sep = \";\")"
   ]
  },
  {
   "cell_type": "code",
   "execution_count": 3,
   "metadata": {},
   "outputs": [],
   "source": [
    "c = list(pd.unique(data[\"Contra Broker\"].dropna()))\n",
    "b = list(pd.unique(data[\"Broker\"].dropna()))\n",
    "\n",
    "for num in c:\n",
    "    if num not in b:\n",
    "        b.append(num)\n",
    "\n",
    "brokers = []\n",
    "for num in b:\n",
    "    if num != np.nan and num != 1.0:\n",
    "        brokers.append(int(num))"
   ]
  },
  {
   "cell_type": "code",
   "execution_count": 4,
   "metadata": {},
   "outputs": [],
   "source": [
    "count_contrabro = {}\n",
    "\n",
    "for bro_num in brokers:\n",
    "    contrabro = data[data[\"Contra Broker\"] == bro_num]\n",
    "    count = len(contrabro)\n",
    "    count_contrabro[bro_num] = count"
   ]
  },
  {
   "cell_type": "code",
   "execution_count": 30,
   "metadata": {},
   "outputs": [],
   "source": [
    "notionals = {84: 0,\n",
    " 65: 24810000,\n",
    " 2: 24830000,\n",
    " 124: 24880000,\n",
    " 85: 49540000,\n",
    " 33: 74400000,\n",
    " 88: 125350000,\n",
    " 70: 126100000,\n",
    " 19: 148800000,\n",
    " 79: 198560000,\n",
    " 7: 991200000,\n",
    " 14: 1033200000,\n",
    " 72: 1170300000,\n",
    " 80: 1437360000,\n",
    " 53: 1908720000,\n",
    " 9: 3519370000,\n",
    " 39: 70971540000}\n",
    "\n",
    "\n",
    "trans_scores = {\n",
    " 2: 3.1827256438833875,\n",
    " 7: -1.3573270227856293,\n",
    " 9: -4.00035673529397,\n",
    " 14: -59.91700133868267,\n",
    " 19: 2.8735638560042704,\n",
    " 33: 6.959353882165052,\n",
    " 39: 15.146893484193013,\n",
    " 53: 0.8881142037841788,\n",
    " 65: -2.0525839668127177,\n",
    " 70: -3.8065268065272213,\n",
    " 72: 40.916586768929236,\n",
    " 79: 1.4556451093714489,\n",
    " 80: -2.971875998372899,\n",
    " 84: 0,\n",
    " 85: 0.8197709542841985,\n",
    " 88: 0.5141737032573598,\n",
    " 124: -0.17830020022881654}"
   ]
  },
  {
   "cell_type": "code",
   "execution_count": 6,
   "metadata": {},
   "outputs": [
    {
     "data": {
      "text/plain": [
       "{80: 806,\n",
       " 79: 899,\n",
       " 7: 29,\n",
       " 2: 168,\n",
       " 39: 65,\n",
       " 9: 135,\n",
       " 33: 11,\n",
       " 85: 35,\n",
       " 53: 73,\n",
       " 72: 1,\n",
       " 84: 0,\n",
       " 19: 7,\n",
       " 70: 1,\n",
       " 14: 4,\n",
       " 88: 1,\n",
       " 124: 2,\n",
       " 65: 5}"
      ]
     },
     "execution_count": 6,
     "metadata": {},
     "output_type": "execute_result"
    }
   ],
   "source": [
    "exec = data[data[\"Message Type\"] == \"E\"]\n",
    "trade = {}\n",
    "\n",
    "for bro_num in brokers:\n",
    "    bro_exec = exec[exec[\"Broker\"] == bro_num]\n",
    "    count = len(bro_exec)\n",
    "    trade[bro_num] = count\n",
    "\n",
    "for key in trade:\n",
    "    new_value = trade[key] + count_contrabro[key]\n",
    "    trade[key] = new_value\n",
    "\n",
    "trade"
   ]
  },
  {
   "cell_type": "code",
   "execution_count": 7,
   "metadata": {},
   "outputs": [
    {
     "data": {
      "text/plain": [
       "{80: 1945900.0,\n",
       " 79: 2140000.0,\n",
       " 7: 32700.0,\n",
       " 2: 716000.0,\n",
       " 39: 298200.0,\n",
       " 9: 491600.0,\n",
       " 33: 11700.0,\n",
       " 85: 13400.0,\n",
       " 53: 47800.0,\n",
       " 72: 4700.0,\n",
       " 84: 0.0,\n",
       " 19: 9700.0,\n",
       " 70: 500.0,\n",
       " 14: 18400.0,\n",
       " 88: 500.0,\n",
       " 124: 200.0,\n",
       " 65: 1000.0}"
      ]
     },
     "execution_count": 7,
     "metadata": {},
     "output_type": "execute_result"
    }
   ],
   "source": [
    "volume = {}\n",
    "\n",
    "for bro_num in brokers:\n",
    "    bro_exec1 = exec[exec[\"Broker\"] == bro_num]\n",
    "    bro_exec2 = exec[exec[\"Contra Broker\"] == bro_num]\n",
    "    total = bro_exec1[\"Executed Shares\"].sum() + bro_exec2[\"Executed Shares\"].sum()\n",
    "    volume[bro_num] = total\n",
    "\n",
    "volume"
   ]
  },
  {
   "cell_type": "code",
   "execution_count": 8,
   "metadata": {},
   "outputs": [
    {
     "data": {
      "text/plain": [
       "{84: 0,\n",
       " 65: 4962000.0,\n",
       " 2: 147797.61904761905,\n",
       " 124: 12440000.0,\n",
       " 85: 1415428.5714285714,\n",
       " 33: 6763636.363636363,\n",
       " 88: 125350000.0,\n",
       " 70: 126100000.0,\n",
       " 19: 21257142.85714286,\n",
       " 79: 220867.63070077865,\n",
       " 7: 34179310.344827585,\n",
       " 14: 258300000.0,\n",
       " 72: 1170300000.0,\n",
       " 80: 1783325.0620347394,\n",
       " 53: 26146849.315068495,\n",
       " 9: 26069407.407407407,\n",
       " 39: 1091869846.1538463}"
      ]
     },
     "execution_count": 8,
     "metadata": {},
     "output_type": "execute_result"
    }
   ],
   "source": [
    "ratio = {}\n",
    "\n",
    "for key in notionals:\n",
    "    try:\n",
    "        r = notionals[key]/trade[key]\n",
    "        ratio[key] = r\n",
    "    \n",
    "    except ZeroDivisionError:\n",
    "        ratio[key] = 0\n",
    "\n",
    "ratio"
   ]
  },
  {
   "cell_type": "code",
   "execution_count": 29,
   "metadata": {},
   "outputs": [
    {
     "data": {
      "text/plain": [
       "18"
      ]
     },
     "execution_count": 29,
     "metadata": {},
     "output_type": "execute_result"
    }
   ],
   "source": [
    "len(trans_scores)"
   ]
  },
  {
   "cell_type": "code",
   "execution_count": 31,
   "metadata": {},
   "outputs": [],
   "source": [
    "criterias = [count_contrabro, notionals, trans_scores, trade, volume, ratio]"
   ]
  },
  {
   "cell_type": "code",
   "execution_count": 32,
   "metadata": {},
   "outputs": [],
   "source": [
    "size = len(brokers)\n",
    "initial_scores = [0.0] * size\n",
    "scores = dict(zip(brokers, initial_scores))"
   ]
  },
  {
   "cell_type": "code",
   "execution_count": 35,
   "metadata": {},
   "outputs": [
    {
     "data": {
      "text/plain": [
       "{80: 65.74340775377539,\n",
       " 79: 45.5894477493906,\n",
       " 7: -15.675508440671953,\n",
       " 2: 4.9470953497916845,\n",
       " 39: 55.54138760343744,\n",
       " 9: -5.626134422132532,\n",
       " 33: -13.525128981137346,\n",
       " 85: -15.876963800572856,\n",
       " 53: -12.415593464151861,\n",
       " 72: 28.541046424853292,\n",
       " 84: -17.741359593403303,\n",
       " 19: -15.203565384126534,\n",
       " 70: -16.40920940140422,\n",
       " 14: -37.915797453351345,\n",
       " 88: -14.46550106402884,\n",
       " 124: -17.364027195626885,\n",
       " 65: -18.143595680640672}"
      ]
     },
     "execution_count": 35,
     "metadata": {},
     "output_type": "execute_result"
    }
   ],
   "source": [
    "for crit in criterias:\n",
    "    crit_val = list(crit.values())\n",
    "    mean = np.mean(crit_val)\n",
    "    std = np.std(crit_val)\n",
    "\n",
    "    for bk in crit:\n",
    "        z = (crit[bk] - mean) * (size ** 0.5)/std\n",
    "        scores[bk] += z\n",
    "\n",
    "scores"
   ]
  },
  {
   "cell_type": "code",
   "execution_count": null,
   "metadata": {},
   "outputs": [],
   "source": []
  },
  {
   "cell_type": "code",
   "execution_count": null,
   "metadata": {},
   "outputs": [],
   "source": []
  },
  {
   "cell_type": "code",
   "execution_count": null,
   "metadata": {},
   "outputs": [],
   "source": []
  }
 ],
 "metadata": {
  "kernelspec": {
   "display_name": "Python 3",
   "language": "python",
   "name": "python3"
  },
  "language_info": {
   "codemirror_mode": {
    "name": "ipython",
    "version": 3
   },
   "file_extension": ".py",
   "mimetype": "text/x-python",
   "name": "python",
   "nbconvert_exporter": "python",
   "pygments_lexer": "ipython3",
   "version": "3.7.6"
  }
 },
 "nbformat": 4,
 "nbformat_minor": 2
}
